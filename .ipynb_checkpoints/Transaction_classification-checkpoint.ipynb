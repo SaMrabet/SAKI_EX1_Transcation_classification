{
 "cells": [
  {
   "cell_type": "markdown",
   "id": "2f5ac15c",
   "metadata": {},
   "source": [
    "# Transaction classification"
   ]
  },
  {
   "cell_type": "code",
   "execution_count": 65,
   "id": "aa947aef",
   "metadata": {
    "scrolled": false
   },
   "outputs": [],
   "source": [
    "import pandas as pd\n",
    "import numpy as np\n",
    "import datetime\n",
    "import matplotlib.pyplot as plt\n",
    "import warnings\n",
    "warnings.filterwarnings('ignore')\n"
   ]
  },
  {
   "cell_type": "markdown",
   "id": "feeea5b5",
   "metadata": {},
   "source": [
    "#### read dataset"
   ]
  },
  {
   "cell_type": "code",
   "execution_count": 66,
   "id": "64bd80c1",
   "metadata": {},
   "outputs": [],
   "source": [
    "#read data \n",
    "dataset=pd.read_csv('TransactionClassificationDataSet.csv', sep=';',index_col=0)"
   ]
  },
  {
   "cell_type": "code",
   "execution_count": 303,
   "id": "8b369fb4",
   "metadata": {
    "scrolled": true
   },
   "outputs": [
    {
     "data": {
      "text/html": [
       "<div>\n",
       "<style scoped>\n",
       "    .dataframe tbody tr th:only-of-type {\n",
       "        vertical-align: middle;\n",
       "    }\n",
       "\n",
       "    .dataframe tbody tr th {\n",
       "        vertical-align: top;\n",
       "    }\n",
       "\n",
       "    .dataframe thead th {\n",
       "        text-align: right;\n",
       "    }\n",
       "</style>\n",
       "<table border=\"1\" class=\"dataframe\">\n",
       "  <thead>\n",
       "    <tr style=\"text-align: right;\">\n",
       "      <th></th>\n",
       "      <th>Auftragskonto</th>\n",
       "      <th>Buchungstag</th>\n",
       "      <th>Valutadatum</th>\n",
       "      <th>Buchungstext</th>\n",
       "      <th>Verwendungszweck</th>\n",
       "      <th>Beguenstigter/Zahlungspflichtiger</th>\n",
       "      <th>Kontonummer</th>\n",
       "      <th>BLZ</th>\n",
       "      <th>Betrag</th>\n",
       "      <th>Waehrung</th>\n",
       "      <th>label</th>\n",
       "    </tr>\n",
       "  </thead>\n",
       "  <tbody>\n",
       "    <tr>\n",
       "      <th>0</th>\n",
       "      <td>89990201.0</td>\n",
       "      <td>28.07.2016</td>\n",
       "      <td>28.07.2016</td>\n",
       "      <td>Lohn / Gehalt</td>\n",
       "      <td>Gehalt Adorsys GmbH &amp; Co. KG End-To-End-Ref.: ...</td>\n",
       "      <td>Adorsys GmbH &amp; Co. KG</td>\n",
       "      <td>7807800780</td>\n",
       "      <td>25190001</td>\n",
       "      <td>2000.00</td>\n",
       "      <td>EUR</td>\n",
       "      <td>income</td>\n",
       "    </tr>\n",
       "    <tr>\n",
       "      <th>1</th>\n",
       "      <td>89990201.0</td>\n",
       "      <td>27.07.2016</td>\n",
       "      <td>27.07.2016</td>\n",
       "      <td>Miete</td>\n",
       "      <td>Byladem1Sbt De12773501123456789889 Miete Beuth...</td>\n",
       "      <td>Georg Tasche</td>\n",
       "      <td>DE31251900019123456780</td>\n",
       "      <td>VOHADE2HXXX</td>\n",
       "      <td>-670.00</td>\n",
       "      <td>EUR</td>\n",
       "      <td>living</td>\n",
       "    </tr>\n",
       "    <tr>\n",
       "      <th>2</th>\n",
       "      <td>89990201.0</td>\n",
       "      <td>21.07.2016</td>\n",
       "      <td>21.07.2016</td>\n",
       "      <td>Bargeld</td>\n",
       "      <td>21.07/16.34Uhr Nuernberg All Eur 70,00 Geb.Eur...</td>\n",
       "      <td>Bargeld</td>\n",
       "      <td>9999900780</td>\n",
       "      <td>25190001</td>\n",
       "      <td>-70.00</td>\n",
       "      <td>EUR</td>\n",
       "      <td>private</td>\n",
       "    </tr>\n",
       "    <tr>\n",
       "      <th>3</th>\n",
       "      <td>89990201.0</td>\n",
       "      <td>20.07.2016</td>\n",
       "      <td>20.07.2016</td>\n",
       "      <td>Lebensmittel / Getraenke</td>\n",
       "      <td>2831 Edeka Neubauer Nuernb.//Nuernb 2016-07-20...</td>\n",
       "      <td>Kartenzahlung</td>\n",
       "      <td>9736000780</td>\n",
       "      <td>25190001</td>\n",
       "      <td>-73.21</td>\n",
       "      <td>EUR</td>\n",
       "      <td>standardOfLiving</td>\n",
       "    </tr>\n",
       "    <tr>\n",
       "      <th>4</th>\n",
       "      <td>89990201.0</td>\n",
       "      <td>18.07.2016</td>\n",
       "      <td>18.07.2016</td>\n",
       "      <td>Spontanausgabe</td>\n",
       "      <td>Amazon</td>\n",
       "      <td>neue Playstation</td>\n",
       "      <td>9988776655</td>\n",
       "      <td>25125100</td>\n",
       "      <td>-363</td>\n",
       "      <td>EUR</td>\n",
       "      <td>leisure</td>\n",
       "    </tr>\n",
       "  </tbody>\n",
       "</table>\n",
       "</div>"
      ],
      "text/plain": [
       "   Auftragskonto Buchungstag Valutadatum              Buchungstext  \\\n",
       "0     89990201.0  28.07.2016  28.07.2016             Lohn / Gehalt   \n",
       "1     89990201.0  27.07.2016  27.07.2016                     Miete   \n",
       "2     89990201.0  21.07.2016  21.07.2016                   Bargeld   \n",
       "3     89990201.0  20.07.2016  20.07.2016  Lebensmittel / Getraenke   \n",
       "4     89990201.0  18.07.2016  18.07.2016            Spontanausgabe   \n",
       "\n",
       "                                    Verwendungszweck  \\\n",
       "0  Gehalt Adorsys GmbH & Co. KG End-To-End-Ref.: ...   \n",
       "1  Byladem1Sbt De12773501123456789889 Miete Beuth...   \n",
       "2  21.07/16.34Uhr Nuernberg All Eur 70,00 Geb.Eur...   \n",
       "3  2831 Edeka Neubauer Nuernb.//Nuernb 2016-07-20...   \n",
       "4                                             Amazon   \n",
       "\n",
       "  Beguenstigter/Zahlungspflichtiger             Kontonummer          BLZ  \\\n",
       "0             Adorsys GmbH & Co. KG              7807800780     25190001   \n",
       "1                      Georg Tasche  DE31251900019123456780  VOHADE2HXXX   \n",
       "2                           Bargeld              9999900780     25190001   \n",
       "3                     Kartenzahlung              9736000780     25190001   \n",
       "4                  neue Playstation              9988776655     25125100   \n",
       "\n",
       "    Betrag Waehrung             label  \n",
       "0  2000.00      EUR            income  \n",
       "1  -670.00      EUR            living  \n",
       "2   -70.00      EUR           private  \n",
       "3   -73.21      EUR  standardOfLiving  \n",
       "4     -363      EUR           leisure  "
      ]
     },
     "execution_count": 303,
     "metadata": {},
     "output_type": "execute_result"
    }
   ],
   "source": [
    "dataset.head()"
   ]
  },
  {
   "cell_type": "code",
   "execution_count": 194,
   "id": "92655753",
   "metadata": {},
   "outputs": [
    {
     "data": {
      "text/plain": [
       "(209, 11)"
      ]
     },
     "execution_count": 194,
     "metadata": {},
     "output_type": "execute_result"
    }
   ],
   "source": [
    "dataset.shape"
   ]
  },
  {
   "cell_type": "code",
   "execution_count": 181,
   "id": "9f527192",
   "metadata": {
    "scrolled": true
   },
   "outputs": [
    {
     "data": {
      "text/plain": [
       "Auftragskonto                        float64\n",
       "Buchungstag                           object\n",
       "Valutadatum                           object\n",
       "Buchungstext                          object\n",
       "Verwendungszweck                      object\n",
       "Beguenstigter/Zahlungspflichtiger     object\n",
       "Kontonummer                           object\n",
       "BLZ                                   object\n",
       "Betrag                                object\n",
       "Waehrung                              object\n",
       "label                                 object\n",
       "dtype: object"
      ]
     },
     "execution_count": 181,
     "metadata": {},
     "output_type": "execute_result"
    }
   ],
   "source": [
    "#types of the columns\n",
    "dataset.dtypes"
   ]
  },
  {
   "cell_type": "code",
   "execution_count": 64,
   "id": "4291a6a9",
   "metadata": {},
   "outputs": [
    {
     "data": {
      "text/plain": [
       "Auftragskonto                          2\n",
       "Buchungstag                           85\n",
       "Valutadatum                           85\n",
       "Buchungstext                          14\n",
       "Verwendungszweck                     125\n",
       "Beguenstigter/Zahlungspflichtiger     59\n",
       "Kontonummer                           53\n",
       "BLZ                                   40\n",
       "Betrag                                93\n",
       "Waehrung                               1\n",
       "label                                  6\n",
       "dtype: int64"
      ]
     },
     "execution_count": 64,
     "metadata": {},
     "output_type": "execute_result"
    }
   ],
   "source": [
    "dataset.nunique()"
   ]
  },
  {
   "cell_type": "markdown",
   "id": "149ec16e",
   "metadata": {},
   "source": [
    "#### Label column(class)"
   ]
  },
  {
   "cell_type": "code",
   "execution_count": 185,
   "id": "a1c66a99",
   "metadata": {},
   "outputs": [
    {
     "data": {
      "text/plain": [
       "6"
      ]
     },
     "execution_count": 185,
     "metadata": {},
     "output_type": "execute_result"
    }
   ],
   "source": [
    "#number of classes\n",
    "dataset.label.nunique()"
   ]
  },
  {
   "cell_type": "code",
   "execution_count": 186,
   "id": "d8b7ee44",
   "metadata": {},
   "outputs": [
    {
     "data": {
      "text/plain": [
       "array(['income', 'living', 'private', 'standardOfLiving', 'leisure',\n",
       "       'finance'], dtype=object)"
      ]
     },
     "execution_count": 186,
     "metadata": {},
     "output_type": "execute_result"
    }
   ],
   "source": [
    "#classes\n",
    "dataset.label.unique()"
   ]
  },
  {
   "cell_type": "code",
   "execution_count": 190,
   "id": "d3741d0c",
   "metadata": {},
   "outputs": [
    {
     "data": {
      "text/plain": [
       "<AxesSubplot:>"
      ]
     },
     "execution_count": 190,
     "metadata": {},
     "output_type": "execute_result"
    },
    {
     "data": {
      "image/png": "[encoded data removed]",
      "text/plain": [
       "<Figure size 432x288 with 1 Axes>"
      ]
     },
     "metadata": {
      "needs_background": "light"
     },
     "output_type": "display_data"
    }
   ],
   "source": [
    "#allows plots to appear in the notebook\n",
    "%matplotlib inline\n",
    "dataset.label.value_counts(normalize=True).plot(kind='bar')"
   ]
  },
  {
   "cell_type": "code",
   "execution_count": 62,
   "id": "e5e3fce4",
   "metadata": {},
   "outputs": [],
   "source": [
    "# This plot shows that there is class imbalance"
   ]
  },
  {
   "cell_type": "markdown",
   "id": "cf988190",
   "metadata": {},
   "source": [
    "### compare values of the columns 'Valutadatum' and 'Buchungstag'"
   ]
  },
  {
   "cell_type": "code",
   "execution_count": 42,
   "id": "a68f850e",
   "metadata": {},
   "outputs": [
    {
     "data": {
      "text/plain": [
       "False"
      ]
     },
     "execution_count": 42,
     "metadata": {},
     "output_type": "execute_result"
    }
   ],
   "source": [
    "dataset['Valutadatum'].equals(dataset['Buchungstag'])"
   ]
  },
  {
   "cell_type": "code",
   "execution_count": 54,
   "id": "8ea8ff61",
   "metadata": {},
   "outputs": [
    {
     "name": "stdout",
     "output_type": "stream",
     "text": [
      "1\n"
     ]
    }
   ],
   "source": [
    "#compare the columns 'Valutadatum' and 'Buchungstag'\n",
    "#print the number of diffrent values in columns 'Valutadatum' and 'Buchungstag'\n",
    "compare_dates= dataset[dataset['Valutadatum'] != dataset['Buchungstag']]\n",
    "print(str(len(compare_dates)))\n"
   ]
  },
  {
   "cell_type": "markdown",
   "id": "347dec45",
   "metadata": {},
   "source": [
    "#### Prepare and clean the data"
   ]
  },
  {
   "cell_type": "markdown",
   "id": "1bb88090",
   "metadata": {},
   "source": [
    "#### fix missing data"
   ]
  },
  {
   "cell_type": "code",
   "execution_count": 4,
   "id": "60fedafb",
   "metadata": {},
   "outputs": [
    {
     "data": {
      "text/plain": [
       "['Auftragskonto', 'Kontonummer', 'BLZ']"
      ]
     },
     "execution_count": 4,
     "metadata": {},
     "output_type": "execute_result"
    }
   ],
   "source": [
    "#list of columns containing missing data\n",
    "dataset.columns[dataset.isna().any()].tolist()"
   ]
  },
  {
   "cell_type": "code",
   "execution_count": 5,
   "id": "6526d42e",
   "metadata": {},
   "outputs": [
    {
     "name": "stdout",
     "output_type": "stream",
     "text": [
      "[66]\n",
      "[66]\n",
      "[167, 168, 169, 170, 171, 172, 173, 174, 175, 176, 177, 178, 179, 180, 181, 182, 183, 184, 185, 186, 187, 188, 189, 190, 191, 192, 193, 194, 195, 196, 197, 198, 199, 200, 201, 202, 203, 204, 205, 206, 207]\n"
     ]
    }
   ],
   "source": [
    "#list of indices of missing data\n",
    "print(dataset[dataset['Kontonummer'].isnull()].index.tolist())\n",
    "print(dataset[dataset['BLZ'].isnull()].index.tolist())\n",
    "print(dataset[dataset['Auftragskonto'].isnull()].index.tolist())"
   ]
  },
  {
   "cell_type": "code",
   "execution_count": 6,
   "id": "c606da0b",
   "metadata": {},
   "outputs": [],
   "source": [
    "#replace missing data\n",
    "dataset['Auftragskonto'].fillna(0, inplace=True)\n",
    "dataset['Kontonummer'].fillna('MissingKontoNr',inplace=True)\n",
    "dataset['BLZ'].fillna('MissingBLZ',inplace=True)"
   ]
  },
  {
   "cell_type": "markdown",
   "id": "07d71348",
   "metadata": {},
   "source": [
    "#### fix entries of the Column Betrag that contain \",\" instead of \".\""
   ]
  },
  {
   "cell_type": "code",
   "execution_count": 69,
   "id": "0ab18af5",
   "metadata": {},
   "outputs": [],
   "source": [
    "#some of the values in the column 'Betrag' contain , instead of . and that causes a problem \n",
    "#replace , with . \n",
    "\n",
    "for i in range(len(dataset)):\n",
    "    if(',' in dataset['Betrag'][i] ):\n",
    "        dataset['Betrag'][i] = dataset['Betrag'][i].replace(',', '.')\n",
    "        "
   ]
  },
  {
   "cell_type": "markdown",
   "id": "36c9fef3",
   "metadata": {},
   "source": [
    "#### create a list of german stop words"
   ]
  },
  {
   "cell_type": "code",
   "execution_count": 68,
   "id": "1172ffd9",
   "metadata": {},
   "outputs": [
    {
     "name": "stderr",
     "output_type": "stream",
     "text": [
      "[nltk_data] Downloading package stopwords to\n",
      "[nltk_data]     C:\\Users\\ridha\\AppData\\Roaming\\nltk_data...\n",
      "[nltk_data]   Package stopwords is already up-to-date!\n"
     ]
    }
   ],
   "source": [
    "\n",
    "import nltk\n",
    "nltk.download('stopwords')\n",
    "from nltk.corpus import stopwords\n",
    "german_stop_words = stopwords.words('german')\n",
    "\n",
    "\n"
   ]
  },
  {
   "cell_type": "markdown",
   "id": "a39766a7",
   "metadata": {},
   "source": [
    "### Prepare features"
   ]
  },
  {
   "cell_type": "markdown",
   "id": "be2b3d1e",
   "metadata": {},
   "source": [
    "#### convert the columns Buchungstag and Valutadatum to datetime"
   ]
  },
  {
   "cell_type": "code",
   "execution_count": 307,
   "id": "27b9ea9a",
   "metadata": {},
   "outputs": [
    {
     "name": "stdout",
     "output_type": "stream",
     "text": [
      "0     2016-07-28\n",
      "1     2016-07-27\n",
      "2     2016-07-21\n",
      "3     2016-07-20\n",
      "4     2016-07-18\n",
      "         ...    \n",
      "204   2016-02-15\n",
      "205   2016-02-02\n",
      "206   2016-01-28\n",
      "207   2016-01-28\n",
      "208   2016-08-01\n",
      "Name: Valutadatum, Length: 209, dtype: datetime64[ns]\n"
     ]
    }
   ],
   "source": [
    "dataset['Buchungstag']=pd.to_datetime(dataset.Buchungstag)\n",
    "dataset['Valutadatum']=pd.to_datetime(dataset.Valutadatum)\n",
    "print(dataset['Valutadatum'])"
   ]
  },
  {
   "cell_type": "code",
   "execution_count": 9,
   "id": "db50ce2e",
   "metadata": {
    "scrolled": true
   },
   "outputs": [
    {
     "data": {
      "text/html": [
       "<div>\n",
       "<style scoped>\n",
       "    .dataframe tbody tr th:only-of-type {\n",
       "        vertical-align: middle;\n",
       "    }\n",
       "\n",
       "    .dataframe tbody tr th {\n",
       "        vertical-align: top;\n",
       "    }\n",
       "\n",
       "    .dataframe thead th {\n",
       "        text-align: right;\n",
       "    }\n",
       "</style>\n",
       "<table border=\"1\" class=\"dataframe\">\n",
       "  <thead>\n",
       "    <tr style=\"text-align: right;\">\n",
       "      <th></th>\n",
       "      <th>Auftragskonto</th>\n",
       "      <th>Buchungstag</th>\n",
       "      <th>Valutadatum</th>\n",
       "      <th>Buchungstext</th>\n",
       "      <th>Verwendungszweck</th>\n",
       "      <th>Beguenstigter/Zahlungspflichtiger</th>\n",
       "      <th>Kontonummer</th>\n",
       "      <th>BLZ</th>\n",
       "      <th>Betrag</th>\n",
       "      <th>Waehrung</th>\n",
       "      <th>label</th>\n",
       "      <th>Tag</th>\n",
       "      <th>quarter</th>\n",
       "    </tr>\n",
       "  </thead>\n",
       "  <tbody>\n",
       "    <tr>\n",
       "      <th>0</th>\n",
       "      <td>89990201.0</td>\n",
       "      <td>28.07.2016</td>\n",
       "      <td>28.07.2016</td>\n",
       "      <td>Lohn / Gehalt</td>\n",
       "      <td>Gehalt Adorsys GmbH &amp; Co. KG End-To-End-Ref.: ...</td>\n",
       "      <td>Adorsys GmbH &amp; Co. KG</td>\n",
       "      <td>7807800780</td>\n",
       "      <td>25190001</td>\n",
       "      <td>2000.00</td>\n",
       "      <td>EUR</td>\n",
       "      <td>income</td>\n",
       "      <td>28</td>\n",
       "      <td>3</td>\n",
       "    </tr>\n",
       "    <tr>\n",
       "      <th>1</th>\n",
       "      <td>89990201.0</td>\n",
       "      <td>27.07.2016</td>\n",
       "      <td>27.07.2016</td>\n",
       "      <td>Miete</td>\n",
       "      <td>Byladem1Sbt De12773501123456789889 Miete Beuth...</td>\n",
       "      <td>Georg Tasche</td>\n",
       "      <td>DE31251900019123456780</td>\n",
       "      <td>VOHADE2HXXX</td>\n",
       "      <td>-670.00</td>\n",
       "      <td>EUR</td>\n",
       "      <td>living</td>\n",
       "      <td>27</td>\n",
       "      <td>3</td>\n",
       "    </tr>\n",
       "    <tr>\n",
       "      <th>2</th>\n",
       "      <td>89990201.0</td>\n",
       "      <td>21.07.2016</td>\n",
       "      <td>21.07.2016</td>\n",
       "      <td>Bargeld</td>\n",
       "      <td>21.07/16.34Uhr Nuernberg All Eur 70,00 Geb.Eur...</td>\n",
       "      <td>Bargeld</td>\n",
       "      <td>9999900780</td>\n",
       "      <td>25190001</td>\n",
       "      <td>-70.00</td>\n",
       "      <td>EUR</td>\n",
       "      <td>private</td>\n",
       "      <td>21</td>\n",
       "      <td>3</td>\n",
       "    </tr>\n",
       "    <tr>\n",
       "      <th>3</th>\n",
       "      <td>89990201.0</td>\n",
       "      <td>20.07.2016</td>\n",
       "      <td>20.07.2016</td>\n",
       "      <td>Lebensmittel / Getraenke</td>\n",
       "      <td>2831 Edeka Neubauer Nuernb.//Nuernb 2016-07-20...</td>\n",
       "      <td>Kartenzahlung</td>\n",
       "      <td>9736000780</td>\n",
       "      <td>25190001</td>\n",
       "      <td>-73.21</td>\n",
       "      <td>EUR</td>\n",
       "      <td>standardOfLiving</td>\n",
       "      <td>20</td>\n",
       "      <td>3</td>\n",
       "    </tr>\n",
       "    <tr>\n",
       "      <th>4</th>\n",
       "      <td>89990201.0</td>\n",
       "      <td>18.07.2016</td>\n",
       "      <td>18.07.2016</td>\n",
       "      <td>Spontanausgabe</td>\n",
       "      <td>Amazon</td>\n",
       "      <td>neue Playstation</td>\n",
       "      <td>9988776655</td>\n",
       "      <td>25125100</td>\n",
       "      <td>-363</td>\n",
       "      <td>EUR</td>\n",
       "      <td>leisure</td>\n",
       "      <td>18</td>\n",
       "      <td>3</td>\n",
       "    </tr>\n",
       "  </tbody>\n",
       "</table>\n",
       "</div>"
      ],
      "text/plain": [
       "   Auftragskonto Buchungstag Valutadatum              Buchungstext  \\\n",
       "0     89990201.0  28.07.2016  28.07.2016             Lohn / Gehalt   \n",
       "1     89990201.0  27.07.2016  27.07.2016                     Miete   \n",
       "2     89990201.0  21.07.2016  21.07.2016                   Bargeld   \n",
       "3     89990201.0  20.07.2016  20.07.2016  Lebensmittel / Getraenke   \n",
       "4     89990201.0  18.07.2016  18.07.2016            Spontanausgabe   \n",
       "\n",
       "                                    Verwendungszweck  \\\n",
       "0  Gehalt Adorsys GmbH & Co. KG End-To-End-Ref.: ...   \n",
       "1  Byladem1Sbt De12773501123456789889 Miete Beuth...   \n",
       "2  21.07/16.34Uhr Nuernberg All Eur 70,00 Geb.Eur...   \n",
       "3  2831 Edeka Neubauer Nuernb.//Nuernb 2016-07-20...   \n",
       "4                                             Amazon   \n",
       "\n",
       "  Beguenstigter/Zahlungspflichtiger             Kontonummer          BLZ  \\\n",
       "0             Adorsys GmbH & Co. KG              7807800780     25190001   \n",
       "1                      Georg Tasche  DE31251900019123456780  VOHADE2HXXX   \n",
       "2                           Bargeld              9999900780     25190001   \n",
       "3                     Kartenzahlung              9736000780     25190001   \n",
       "4                  neue Playstation              9988776655     25125100   \n",
       "\n",
       "    Betrag Waehrung             label  Tag  quarter  \n",
       "0  2000.00      EUR            income   28        3  \n",
       "1  -670.00      EUR            living   27        3  \n",
       "2   -70.00      EUR           private   21        3  \n",
       "3   -73.21      EUR  standardOfLiving   20        3  \n",
       "4     -363      EUR           leisure   18        3  "
      ]
     },
     "execution_count": 9,
     "metadata": {},
     "output_type": "execute_result"
    }
   ],
   "source": [
    "#working with datatime\n",
    "\n",
    "dataset['Tag'] = pd.DatetimeIndex(dataset['Buchungstag']).day\n",
    "dataset['quarter'] =pd.DatetimeIndex(dataset['Buchungstag']).quarter\n",
    "\n",
    "dataset.head()"
   ]
  },
  {
   "cell_type": "markdown",
   "id": "dc6cfef2",
   "metadata": {},
   "source": [
    "#### Normalize'Betrag'"
   ]
  },
  {
   "cell_type": "code",
   "execution_count": 10,
   "id": "c8800764",
   "metadata": {
    "scrolled": true
   },
   "outputs": [],
   "source": [
    "\n",
    "from sklearn.preprocessing import MinMaxScaler\n",
    "min_max_scaler=MinMaxScaler()\n",
    "dataset['Betrag']=min_max_scaler.fit_transform(np.array(dataset['Betrag']).reshape(-1,1))\n",
    "\n"
   ]
  },
  {
   "cell_type": "markdown",
   "id": "c3f39b0c",
   "metadata": {},
   "source": [
    "### Split train and test dataset"
   ]
  },
  {
   "cell_type": "code",
   "execution_count": 11,
   "id": "8fb5af96",
   "metadata": {},
   "outputs": [
    {
     "name": "stdout",
     "output_type": "stream",
     "text": [
      "(156, 12)\n",
      "(53, 12)\n",
      "(156,)\n",
      "(53,)\n"
     ]
    }
   ],
   "source": [
    "from sklearn.model_selection import train_test_split\n",
    "x1=dataset.loc[:,:'Waehrung' ]\n",
    "x2=dataset.loc[:,'Tag':]\n",
    "x=x1.join(x2)\n",
    "training_set,test_set, y_train, y_test = train_test_split(x, dataset['label'], test_size=0.25, random_state=1)  \n",
    "print(training_set.shape)\n",
    "print(test_set.shape)\n",
    "print(y_train.shape)\n",
    "print(y_test.shape)"
   ]
  },
  {
   "cell_type": "markdown",
   "id": "76adcf39",
   "metadata": {},
   "source": [
    "### Final training_set and test_test "
   ]
  },
  {
   "cell_type": "code",
   "execution_count": 12,
   "id": "190a0cd7",
   "metadata": {},
   "outputs": [],
   "source": [
    "#this function groups all text features and removes punctuation\n",
    "def group_text_features(data_set):\n",
    "    #Group all text features\n",
    "    combined=data_set['Buchungstext']+' '+data_set['Beguenstigter/Zahlungspflichtiger']+' '+data_set['Verwendungszweck']+' '+data_set['BLZ']+' '+data_set['Kontonummer']\n",
    "    #remove punctuation\n",
    "    combined = combined.str.replace('\\W', ' ')\n",
    "    return combined\n",
    "    "
   ]
  },
  {
   "cell_type": "code",
   "execution_count": 13,
   "id": "5958e8c9",
   "metadata": {},
   "outputs": [],
   "source": [
    "from sklearn.feature_extraction.text import CountVectorizer\n",
    "#instantiate the vectorizer\n",
    "vectorizer = CountVectorizer(stop_words=german_stop_words)\n",
    "def prepare_data_train_test(data_type):\n",
    "    if data_type=='train':\n",
    "        data_set=training_set\n",
    "        #learn training data vocabulary and use it to create a document-term matrix(fit and transform combined in one step)\n",
    "        combined=group_text_features(data_set)\n",
    "        #vectorize text features\n",
    "        X_vect=vectorizer.fit_transform(combined)\n",
    "    elif data_type=='test':\n",
    "        data_set=test_set\n",
    "        combined=group_text_features(data_set)\n",
    "        # using fitted vocabulary transform text testing data into a document-term matrix(for test data only use transform)\n",
    "        X_vect=vectorizer.transform(combined)\n",
    "    else :\n",
    "        print('enter valid data type')\n",
    "    counts = pd.DataFrame(X_vect.toarray(), columns=vectorizer.get_feature_names(), index=data_set.index)\n",
    "    Betrag=pd.DataFrame(data_set['Betrag'])\n",
    "    Auftragskonto=pd.get_dummies(data_set['Auftragskonto'])\n",
    "    x2=data_set.loc[:,'Tag':]\n",
    "    x2=x2.join(Betrag)\n",
    "    x2=x2.join(Auftragskonto)\n",
    "    #join the remaining features\n",
    "    data = counts.join(x2)\n",
    "    return data\n",
    "        \n",
    "        \n",
    "    "
   ]
  },
  {
   "cell_type": "code",
   "execution_count": 14,
   "id": "0291aecb",
   "metadata": {
    "scrolled": true
   },
   "outputs": [],
   "source": [
    "#train_data should be created before test_data to reuse the vocabulary learned during model training for the test_data\n",
    "train_data=prepare_data_train_test('train')\n",
    "test_data=prepare_data_train_test('test')\n"
   ]
  },
  {
   "cell_type": "code",
   "execution_count": 15,
   "id": "7489d8e8",
   "metadata": {},
   "outputs": [
    {
     "data": {
      "text/html": [
       "<div>\n",
       "<style scoped>\n",
       "    .dataframe tbody tr th:only-of-type {\n",
       "        vertical-align: middle;\n",
       "    }\n",
       "\n",
       "    .dataframe tbody tr th {\n",
       "        vertical-align: top;\n",
       "    }\n",
       "\n",
       "    .dataframe thead th {\n",
       "        text-align: right;\n",
       "    }\n",
       "</style>\n",
       "<table border=\"1\" class=\"dataframe\">\n",
       "  <thead>\n",
       "    <tr style=\"text-align: right;\">\n",
       "      <th></th>\n",
       "      <th>00</th>\n",
       "      <th>000</th>\n",
       "      <th>0000000000</th>\n",
       "      <th>001</th>\n",
       "      <th>0084632</th>\n",
       "      <th>00eur0</th>\n",
       "      <th>01</th>\n",
       "      <th>016</th>\n",
       "      <th>0164378887929309</th>\n",
       "      <th>01e</th>\n",
       "      <th>...</th>\n",
       "      <th>winkl</th>\n",
       "      <th>wuerzburger</th>\n",
       "      <th>zalando</th>\n",
       "      <th>überweisung</th>\n",
       "      <th>Tag</th>\n",
       "      <th>quarter</th>\n",
       "      <th>Betrag</th>\n",
       "      <th>0.0</th>\n",
       "      <th>89990201.0</th>\n",
       "      <th>89990210.0</th>\n",
       "    </tr>\n",
       "  </thead>\n",
       "  <tbody>\n",
       "    <tr>\n",
       "      <th>193</th>\n",
       "      <td>0</td>\n",
       "      <td>0</td>\n",
       "      <td>0</td>\n",
       "      <td>0</td>\n",
       "      <td>0</td>\n",
       "      <td>0</td>\n",
       "      <td>0</td>\n",
       "      <td>0</td>\n",
       "      <td>0</td>\n",
       "      <td>0</td>\n",
       "      <td>...</td>\n",
       "      <td>0</td>\n",
       "      <td>0</td>\n",
       "      <td>0</td>\n",
       "      <td>0</td>\n",
       "      <td>4</td>\n",
       "      <td>2</td>\n",
       "      <td>0.588512</td>\n",
       "      <td>1</td>\n",
       "      <td>0</td>\n",
       "      <td>0</td>\n",
       "    </tr>\n",
       "    <tr>\n",
       "      <th>14</th>\n",
       "      <td>0</td>\n",
       "      <td>0</td>\n",
       "      <td>0</td>\n",
       "      <td>1</td>\n",
       "      <td>0</td>\n",
       "      <td>0</td>\n",
       "      <td>0</td>\n",
       "      <td>1</td>\n",
       "      <td>0</td>\n",
       "      <td>0</td>\n",
       "      <td>...</td>\n",
       "      <td>0</td>\n",
       "      <td>0</td>\n",
       "      <td>0</td>\n",
       "      <td>0</td>\n",
       "      <td>6</td>\n",
       "      <td>3</td>\n",
       "      <td>0.623574</td>\n",
       "      <td>0</td>\n",
       "      <td>1</td>\n",
       "      <td>0</td>\n",
       "    </tr>\n",
       "    <tr>\n",
       "      <th>165</th>\n",
       "      <td>1</td>\n",
       "      <td>0</td>\n",
       "      <td>1</td>\n",
       "      <td>0</td>\n",
       "      <td>0</td>\n",
       "      <td>1</td>\n",
       "      <td>1</td>\n",
       "      <td>0</td>\n",
       "      <td>0</td>\n",
       "      <td>0</td>\n",
       "      <td>...</td>\n",
       "      <td>0</td>\n",
       "      <td>0</td>\n",
       "      <td>0</td>\n",
       "      <td>0</td>\n",
       "      <td>1</td>\n",
       "      <td>4</td>\n",
       "      <td>0.623573</td>\n",
       "      <td>0</td>\n",
       "      <td>0</td>\n",
       "      <td>1</td>\n",
       "    </tr>\n",
       "    <tr>\n",
       "      <th>62</th>\n",
       "      <td>1</td>\n",
       "      <td>0</td>\n",
       "      <td>1</td>\n",
       "      <td>0</td>\n",
       "      <td>0</td>\n",
       "      <td>0</td>\n",
       "      <td>0</td>\n",
       "      <td>0</td>\n",
       "      <td>0</td>\n",
       "      <td>0</td>\n",
       "      <td>...</td>\n",
       "      <td>0</td>\n",
       "      <td>0</td>\n",
       "      <td>0</td>\n",
       "      <td>0</td>\n",
       "      <td>4</td>\n",
       "      <td>1</td>\n",
       "      <td>0.624450</td>\n",
       "      <td>0</td>\n",
       "      <td>0</td>\n",
       "      <td>1</td>\n",
       "    </tr>\n",
       "    <tr>\n",
       "      <th>19</th>\n",
       "      <td>2</td>\n",
       "      <td>0</td>\n",
       "      <td>0</td>\n",
       "      <td>0</td>\n",
       "      <td>0</td>\n",
       "      <td>0</td>\n",
       "      <td>1</td>\n",
       "      <td>0</td>\n",
       "      <td>0</td>\n",
       "      <td>0</td>\n",
       "      <td>...</td>\n",
       "      <td>0</td>\n",
       "      <td>0</td>\n",
       "      <td>0</td>\n",
       "      <td>0</td>\n",
       "      <td>6</td>\n",
       "      <td>1</td>\n",
       "      <td>0.617312</td>\n",
       "      <td>0</td>\n",
       "      <td>1</td>\n",
       "      <td>0</td>\n",
       "    </tr>\n",
       "  </tbody>\n",
       "</table>\n",
       "<p>5 rows × 444 columns</p>\n",
       "</div>"
      ],
      "text/plain": [
       "     00  000  0000000000  001  0084632  00eur0  01  016  0164378887929309  \\\n",
       "193   0    0           0    0        0       0   0    0                 0   \n",
       "14    0    0           0    1        0       0   0    1                 0   \n",
       "165   1    0           1    0        0       1   1    0                 0   \n",
       "62    1    0           1    0        0       0   0    0                 0   \n",
       "19    2    0           0    0        0       0   1    0                 0   \n",
       "\n",
       "     01e  ...  winkl  wuerzburger  zalando  überweisung  Tag  quarter  \\\n",
       "193    0  ...      0            0        0            0    4        2   \n",
       "14     0  ...      0            0        0            0    6        3   \n",
       "165    0  ...      0            0        0            0    1        4   \n",
       "62     0  ...      0            0        0            0    4        1   \n",
       "19     0  ...      0            0        0            0    6        1   \n",
       "\n",
       "       Betrag  0.0  89990201.0  89990210.0  \n",
       "193  0.588512    1           0           0  \n",
       "14   0.623574    0           1           0  \n",
       "165  0.623573    0           0           1  \n",
       "62   0.624450    0           0           1  \n",
       "19   0.617312    0           1           0  \n",
       "\n",
       "[5 rows x 444 columns]"
      ]
     },
     "execution_count": 15,
     "metadata": {},
     "output_type": "execute_result"
    }
   ],
   "source": [
    "#examine the train input to the classifier\n",
    "train_data.head()"
   ]
  },
  {
   "cell_type": "code",
   "execution_count": 334,
   "id": "920e8e2d",
   "metadata": {
    "scrolled": true
   },
   "outputs": [
    {
     "data": {
      "text/html": [
       "<div>\n",
       "<style scoped>\n",
       "    .dataframe tbody tr th:only-of-type {\n",
       "        vertical-align: middle;\n",
       "    }\n",
       "\n",
       "    .dataframe tbody tr th {\n",
       "        vertical-align: top;\n",
       "    }\n",
       "\n",
       "    .dataframe thead th {\n",
       "        text-align: right;\n",
       "    }\n",
       "</style>\n",
       "<table border=\"1\" class=\"dataframe\">\n",
       "  <thead>\n",
       "    <tr style=\"text-align: right;\">\n",
       "      <th></th>\n",
       "      <th>00</th>\n",
       "      <th>000</th>\n",
       "      <th>0000000000</th>\n",
       "      <th>001</th>\n",
       "      <th>0084632</th>\n",
       "      <th>00eur0</th>\n",
       "      <th>01</th>\n",
       "      <th>016</th>\n",
       "      <th>0164378887929309</th>\n",
       "      <th>01e</th>\n",
       "      <th>...</th>\n",
       "      <th>zalando</th>\n",
       "      <th>überweisung</th>\n",
       "      <th>Tag</th>\n",
       "      <th>quarter</th>\n",
       "      <th>is_month_start</th>\n",
       "      <th>is_month_end</th>\n",
       "      <th>Betrag</th>\n",
       "      <th>0.0</th>\n",
       "      <th>89990201.0</th>\n",
       "      <th>89990210.0</th>\n",
       "    </tr>\n",
       "  </thead>\n",
       "  <tbody>\n",
       "    <tr>\n",
       "      <th>44</th>\n",
       "      <td>0</td>\n",
       "      <td>0</td>\n",
       "      <td>0</td>\n",
       "      <td>0</td>\n",
       "      <td>0</td>\n",
       "      <td>0</td>\n",
       "      <td>0</td>\n",
       "      <td>0</td>\n",
       "      <td>0</td>\n",
       "      <td>0</td>\n",
       "      <td>...</td>\n",
       "      <td>0</td>\n",
       "      <td>0</td>\n",
       "      <td>15</td>\n",
       "      <td>1</td>\n",
       "      <td>False</td>\n",
       "      <td>False</td>\n",
       "      <td>0.651120</td>\n",
       "      <td>0</td>\n",
       "      <td>1</td>\n",
       "      <td>0</td>\n",
       "    </tr>\n",
       "    <tr>\n",
       "      <th>187</th>\n",
       "      <td>0</td>\n",
       "      <td>0</td>\n",
       "      <td>0</td>\n",
       "      <td>0</td>\n",
       "      <td>0</td>\n",
       "      <td>0</td>\n",
       "      <td>0</td>\n",
       "      <td>0</td>\n",
       "      <td>0</td>\n",
       "      <td>0</td>\n",
       "      <td>...</td>\n",
       "      <td>0</td>\n",
       "      <td>0</td>\n",
       "      <td>5</td>\n",
       "      <td>1</td>\n",
       "      <td>False</td>\n",
       "      <td>False</td>\n",
       "      <td>0.588512</td>\n",
       "      <td>1</td>\n",
       "      <td>0</td>\n",
       "      <td>0</td>\n",
       "    </tr>\n",
       "    <tr>\n",
       "      <th>51</th>\n",
       "      <td>0</td>\n",
       "      <td>0</td>\n",
       "      <td>0</td>\n",
       "      <td>0</td>\n",
       "      <td>0</td>\n",
       "      <td>0</td>\n",
       "      <td>0</td>\n",
       "      <td>0</td>\n",
       "      <td>0</td>\n",
       "      <td>0</td>\n",
       "      <td>...</td>\n",
       "      <td>0</td>\n",
       "      <td>0</td>\n",
       "      <td>4</td>\n",
       "      <td>4</td>\n",
       "      <td>False</td>\n",
       "      <td>False</td>\n",
       "      <td>0.619816</td>\n",
       "      <td>0</td>\n",
       "      <td>0</td>\n",
       "      <td>1</td>\n",
       "    </tr>\n",
       "    <tr>\n",
       "      <th>73</th>\n",
       "      <td>0</td>\n",
       "      <td>0</td>\n",
       "      <td>0</td>\n",
       "      <td>0</td>\n",
       "      <td>0</td>\n",
       "      <td>0</td>\n",
       "      <td>0</td>\n",
       "      <td>0</td>\n",
       "      <td>0</td>\n",
       "      <td>0</td>\n",
       "      <td>...</td>\n",
       "      <td>0</td>\n",
       "      <td>0</td>\n",
       "      <td>29</td>\n",
       "      <td>1</td>\n",
       "      <td>False</td>\n",
       "      <td>False</td>\n",
       "      <td>0.622320</td>\n",
       "      <td>0</td>\n",
       "      <td>0</td>\n",
       "      <td>1</td>\n",
       "    </tr>\n",
       "    <tr>\n",
       "      <th>35</th>\n",
       "      <td>0</td>\n",
       "      <td>0</td>\n",
       "      <td>0</td>\n",
       "      <td>0</td>\n",
       "      <td>0</td>\n",
       "      <td>0</td>\n",
       "      <td>0</td>\n",
       "      <td>0</td>\n",
       "      <td>0</td>\n",
       "      <td>0</td>\n",
       "      <td>...</td>\n",
       "      <td>0</td>\n",
       "      <td>0</td>\n",
       "      <td>29</td>\n",
       "      <td>1</td>\n",
       "      <td>False</td>\n",
       "      <td>False</td>\n",
       "      <td>0.542183</td>\n",
       "      <td>0</td>\n",
       "      <td>1</td>\n",
       "      <td>0</td>\n",
       "    </tr>\n",
       "  </tbody>\n",
       "</table>\n",
       "<p>5 rows × 446 columns</p>\n",
       "</div>"
      ],
      "text/plain": [
       "     00  000  0000000000  001  0084632  00eur0  01  016  0164378887929309  \\\n",
       "44    0    0           0    0        0       0   0    0                 0   \n",
       "187   0    0           0    0        0       0   0    0                 0   \n",
       "51    0    0           0    0        0       0   0    0                 0   \n",
       "73    0    0           0    0        0       0   0    0                 0   \n",
       "35    0    0           0    0        0       0   0    0                 0   \n",
       "\n",
       "     01e  ...  zalando  überweisung  Tag  quarter  is_month_start  \\\n",
       "44     0  ...        0            0   15        1           False   \n",
       "187    0  ...        0            0    5        1           False   \n",
       "51     0  ...        0            0    4        4           False   \n",
       "73     0  ...        0            0   29        1           False   \n",
       "35     0  ...        0            0   29        1           False   \n",
       "\n",
       "     is_month_end    Betrag  0.0  89990201.0  89990210.0  \n",
       "44          False  0.651120    0           1           0  \n",
       "187         False  0.588512    1           0           0  \n",
       "51          False  0.619816    0           0           1  \n",
       "73          False  0.622320    0           0           1  \n",
       "35          False  0.542183    0           1           0  \n",
       "\n",
       "[5 rows x 446 columns]"
      ]
     },
     "execution_count": 334,
     "metadata": {},
     "output_type": "execute_result"
    }
   ],
   "source": [
    "#examine the test input to the classifier\n",
    "test_data.head()"
   ]
  },
  {
   "cell_type": "markdown",
   "id": "df819134",
   "metadata": {},
   "source": [
    "### Create a Gaussian Classifier"
   ]
  },
  {
   "cell_type": "code",
   "execution_count": 16,
   "id": "f6301e5d",
   "metadata": {},
   "outputs": [],
   "source": [
    "from sklearn.naive_bayes import GaussianNB\n",
    "# Create a Gaussian Classifier\n",
    "model = GaussianNB()"
   ]
  },
  {
   "cell_type": "markdown",
   "id": "d14dbe2f",
   "metadata": {},
   "source": [
    "### Train the model "
   ]
  },
  {
   "cell_type": "code",
   "execution_count": 17,
   "id": "6ac08f45",
   "metadata": {},
   "outputs": [
    {
     "data": {
      "text/plain": [
       "GaussianNB()"
      ]
     },
     "execution_count": 17,
     "metadata": {},
     "output_type": "execute_result"
    }
   ],
   "source": [
    "model.fit(train_data, y_train)"
   ]
  },
  {
   "cell_type": "markdown",
   "id": "e06414e8",
   "metadata": {},
   "source": [
    "### Predict Output"
   ]
  },
  {
   "cell_type": "code",
   "execution_count": 18,
   "id": "31fca762",
   "metadata": {
    "scrolled": true
   },
   "outputs": [
    {
     "name": "stdout",
     "output_type": "stream",
     "text": [
      "['finance' 'finance' 'leisure' 'leisure' 'living' 'private' 'finance'\n",
      " 'standardOfLiving' 'living' 'private' 'private' 'private' 'finance'\n",
      " 'standardOfLiving' 'finance' 'leisure' 'standardOfLiving'\n",
      " 'standardOfLiving' 'finance' 'income' 'standardOfLiving' 'private'\n",
      " 'private' 'standardOfLiving' 'income' 'leisure' 'living' 'income'\n",
      " 'living' 'leisure' 'leisure' 'income' 'income' 'income'\n",
      " 'standardOfLiving' 'standardOfLiving' 'standardOfLiving'\n",
      " 'standardOfLiving' 'finance' 'standardOfLiving' 'leisure' 'leisure'\n",
      " 'standardOfLiving' 'living' 'leisure' 'private' 'standardOfLiving'\n",
      " 'living' 'leisure' 'living' 'leisure' 'income' 'leisure']\n",
      "44              finance\n",
      "187             finance\n",
      "51              leisure\n",
      "73     standardOfLiving\n",
      "35               living\n",
      "88              private\n",
      "33              finance\n",
      "148    standardOfLiving\n",
      "189              living\n",
      "130             private\n",
      "69              private\n",
      "4               leisure\n",
      "47              finance\n",
      "18     standardOfLiving\n",
      "180             finance\n",
      "154             leisure\n",
      "173    standardOfLiving\n",
      "202    standardOfLiving\n",
      "38              finance\n",
      "34               income\n",
      "58     standardOfLiving\n",
      "31              private\n",
      "106             private\n",
      "176    standardOfLiving\n",
      "40               income\n",
      "59              leisure\n",
      "11               living\n",
      "188              income\n",
      "29               living\n",
      "150             leisure\n",
      "102             leisure\n",
      "170              income\n",
      "200              income\n",
      "28               income\n",
      "16     standardOfLiving\n",
      "95     standardOfLiving\n",
      "190    standardOfLiving\n",
      "184    standardOfLiving\n",
      "27              finance\n",
      "197    standardOfLiving\n",
      "152             leisure\n",
      "208             leisure\n",
      "105    standardOfLiving\n",
      "116             leisure\n",
      "93              leisure\n",
      "191             private\n",
      "145    standardOfLiving\n",
      "124              living\n",
      "110             leisure\n",
      "67              private\n",
      "122             leisure\n",
      "108              income\n",
      "78              leisure\n",
      "Name: label, dtype: object\n"
     ]
    }
   ],
   "source": [
    "predicted=model.predict(test_data)\n",
    "print(predicted)\n",
    "print(y_test)"
   ]
  },
  {
   "cell_type": "markdown",
   "id": "a06c48f3",
   "metadata": {},
   "source": [
    "### Evaluate the model "
   ]
  },
  {
   "cell_type": "markdown",
   "id": "d38f12ca",
   "metadata": {},
   "source": [
    "#### accuracy of the model"
   ]
  },
  {
   "cell_type": "code",
   "execution_count": 19,
   "id": "f6ec0ba8",
   "metadata": {},
   "outputs": [
    {
     "name": "stdout",
     "output_type": "stream",
     "text": [
      "0.9245283018867925\n"
     ]
    }
   ],
   "source": [
    "from sklearn.metrics import accuracy_score\n",
    "print(accuracy_score(y_test,predicted))"
   ]
  },
  {
   "cell_type": "markdown",
   "id": "f927a24e",
   "metadata": {},
   "source": [
    "#### Confusion matrix"
   ]
  },
  {
   "cell_type": "code",
   "execution_count": 22,
   "id": "15633db3",
   "metadata": {},
   "outputs": [],
   "source": [
    "class_names = ['finance', 'income', 'leisure', 'living', 'private', 'standardOfLiving']"
   ]
  },
  {
   "cell_type": "code",
   "execution_count": 41,
   "id": "baa4a0ad",
   "metadata": {},
   "outputs": [
    {
     "data": {
      "text/plain": [
       "<AxesSubplot:>"
      ]
     },
     "execution_count": 41,
     "metadata": {},
     "output_type": "execute_result"
    },
    {
     "data": {
      "image/png": "[encoded data removed]",
      "text/plain": [
       "<Figure size 864x504 with 2 Axes>"
      ]
     },
     "metadata": {
      "needs_background": "light"
     },
     "output_type": "display_data"
    }
   ],
   "source": [
    "\n",
    "import seaborn as sns\n",
    "from sklearn.metrics import confusion_matrix\n",
    "cf_matrix = confusion_matrix(y_test, predicted,labels=dataset.label.unique())\n",
    "#plot confusion matrix\n",
    "confusion_matrix_df = pd.DataFrame(cf_matrix, index = [j for j in class_names],\n",
    "                  columns = [j for j in class_names])\n",
    "plt.figure(figsize = (12,7))\n",
    "sns.heatmap(confusion_matrix_df , annot=True)"
   ]
  },
  {
   "cell_type": "markdown",
   "id": "512b5b55",
   "metadata": {},
   "source": [
    "#### Classification report"
   ]
  },
  {
   "cell_type": "code",
   "execution_count": 40,
   "id": "d3fa7b8d",
   "metadata": {},
   "outputs": [
    {
     "name": "stdout",
     "output_type": "stream",
     "text": [
      "                  precision    recall  f1-score   support\n",
      "\n",
      "         finance       1.00      1.00      1.00         7\n",
      "          income       1.00      1.00      1.00         7\n",
      "         leisure       0.92      0.85      0.88        13\n",
      "          living       0.71      1.00      0.83         5\n",
      "         private       0.86      0.86      0.86         7\n",
      "standardOfLiving       1.00      0.93      0.96        14\n",
      "\n",
      "        accuracy                           0.92        53\n",
      "       macro avg       0.91      0.94      0.92        53\n",
      "    weighted avg       0.93      0.92      0.93        53\n",
      "\n"
     ]
    }
   ],
   "source": [
    "from sklearn.metrics import classification_report\n",
    "\n",
    "print(classification_report(y_test, predicted, target_names=class_names))"
   ]
  }
 ],
 "metadata": {
  "kernelspec": {
   "display_name": "Python 3",
   "language": "python",
   "name": "python3"
  },
  "language_info": {
   "codemirror_mode": {
    "name": "ipython",
    "version": 3
   },
   "file_extension": ".py",
   "mimetype": "text/x-python",
   "name": "python",
   "nbconvert_exporter": "python",
   "pygments_lexer": "ipython3",
   "version": "3.6.8"
  }
 },
 "nbformat": 4,
 "nbformat_minor": 5
}
